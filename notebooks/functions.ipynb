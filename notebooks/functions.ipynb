{
 "cells": [
  {
   "cell_type": "markdown",
   "metadata": {},
   "source": [
    "# 05 Writing Functions"
   ]
  },
  {
   "cell_type": "markdown",
   "metadata": {},
   "source": [
    "## Break programs down into functions to make them easier to understand.\n",
    "\n",
    "*   Human beings can only keep a few items in working memory at a time.\n",
    "*   Handle larger/more complicated ideas by understanding and combining smaller pieces.\n",
    "    *   Components in a machine.\n",
    "    *   Lemmas when proving theorems.\n",
    "*   Functions serve the same purpose in programs.\n",
    "    *   *Encapsulate* complexity so that we can treat it as a single \"thing\".\n",
    "*   Also enables *re-use*.\n",
    "    *   Write one time, use many times."
   ]
  },
  {
   "cell_type": "markdown",
   "metadata": {},
   "source": [
    "## Define a function using `def` with a name, parameters, and a block of code.\n",
    "\n",
    "*   Begin the definition of a new function with `def`.\n",
    "*   Followed by the name of the function.\n",
    "    *   Must obey the same rules as variable names.\n",
    "*   Then *parameters* in parentheses.\n",
    "    *   Empty parentheses if the function doesn't take any inputs.\n",
    "    *   We will discuss this in detail in a moment.\n",
    "*   Then a colon.\n",
    "*   Then an indented block of code."
   ]
  },
  {
   "cell_type": "code",
   "execution_count": 1,
   "metadata": {},
   "outputs": [],
   "source": [
    "def print_greeting():\n",
    "    print('Hello!')\n",
    "    print('The weather is nice today.')\n",
    "    print('Right?')"
   ]
  },
  {
   "cell_type": "markdown",
   "metadata": {},
   "source": [
    "## Defining a function does not run it.\n",
    "\n",
    "*   Defining a function does not run it.\n",
    "    *   Like assigning a value to a variable.\n",
    "*   Must call the function to execute the code it contains."
   ]
  },
  {
   "cell_type": "markdown",
   "metadata": {},
   "source": [
    "## Arguments in a function call are matched to its defined parameters.\n",
    "\n",
    "*   Functions are most useful when they can operate on different data.\n",
    "*   Specify *parameters* when defining a function.\n",
    "    *   These become variables when the function is executed.\n",
    "    *   Are assigned the arguments in the call (i.e., the values passed to the function).\n",
    "    *   If you don't name the arguments when using them in the call, the arguments will be matched to parameters in the order the parameters are defined in the function."
   ]
  },
  {
   "cell_type": "code",
   "execution_count": 2,
   "metadata": {},
   "outputs": [
    {
     "name": "stdout",
     "output_type": "stream",
     "text": [
      "1871/3/19\n"
     ]
    }
   ],
   "source": [
    "def print_date(year, month, day):\n",
    "    joined = str(year) + '/' + str(month) + '/' + str(day)\n",
    "    print(joined)\n",
    "\n",
    "print_date(1871, 3, 19)"
   ]
  },
  {
   "cell_type": "markdown",
   "metadata": {},
   "source": [
    "Or, we can name the arguments when we call the function, which allows us to\n",
    "specify them in any order and adds clarity to the call statement; otherwise, as\n",
    "one is reading the code, they might forget if the second argument is the month\n",
    "or the day, for example."
   ]
  },
  {
   "cell_type": "code",
   "execution_count": 3,
   "metadata": {},
   "outputs": [
    {
     "name": "stdout",
     "output_type": "stream",
     "text": [
      "1871/3/19\n"
     ]
    }
   ],
   "source": [
    "print_date(month=3, day=19, year=1871)"
   ]
  },
  {
   "cell_type": "markdown",
   "metadata": {},
   "source": [
    "*   Via [Twitter](https://twitter.com/minisciencegirl/status/693486088963272705):\n",
    "    `()` contains the ingredients for the function\n",
    "    while the body contains the recipe."
   ]
  },
  {
   "cell_type": "markdown",
   "metadata": {},
   "source": [
    "## Functions may return a result to their caller using `return`.\n",
    "\n",
    "*   Use `return ...` to give a value back to the caller.\n",
    "*   May occur anywhere in the function.\n",
    "*   But functions are easier to understand if `return` occurs:\n",
    "    *   At the start to handle special cases.\n",
    "    *   At the very end, with a final result."
   ]
  },
  {
   "cell_type": "code",
   "execution_count": 4,
   "metadata": {},
   "outputs": [],
   "source": [
    "def average(values):\n",
    "    if len(values) == 0:\n",
    "        return None\n",
    "    return sum(values) / len(values)"
   ]
  },
  {
   "cell_type": "code",
   "execution_count": 5,
   "metadata": {},
   "outputs": [
    {
     "name": "stdout",
     "output_type": "stream",
     "text": [
      "('average of actual values:', 2.6666666666666665)\n"
     ]
    }
   ],
   "source": [
    "a = average([1, 3, 4.])\n",
    "print('average of actual values:', a)"
   ]
  },
  {
   "cell_type": "code",
   "execution_count": 6,
   "metadata": {},
   "outputs": [
    {
     "name": "stdout",
     "output_type": "stream",
     "text": [
      "('average of empty list:', None)\n"
     ]
    }
   ],
   "source": [
    "b = average([])\n",
    "print('average of empty list:', b)"
   ]
  },
  {
   "cell_type": "markdown",
   "metadata": {},
   "source": [
    "*   Remember: Every function returns something.\n",
    "*   A function that doesn't explicitly `return` a value automatically returns `None`."
   ]
  },
  {
   "cell_type": "code",
   "execution_count": 7,
   "metadata": {},
   "outputs": [
    {
     "name": "stdout",
     "output_type": "stream",
     "text": [
      "1871/3/19\n",
      "('result of call is:', None)\n"
     ]
    }
   ],
   "source": [
    "result = print_date(1871, 3, 19)\n",
    "print('result of call is:', result)"
   ]
  },
  {
   "cell_type": "markdown",
   "metadata": {},
   "source": [
    "### Excercise 1: Identifying Syntax Errors\n",
    "\n",
    "1. Read the code below and try to identify what the errors are\n",
    "   *without* running it.\n",
    "2. Run the code and read the error message.\n",
    "   Is it a `SyntaxError` or an `IndentationError`?\n",
    "3. Fix the error.\n",
    "4. Repeat steps 2 and 3 until you have fixed all the errors.\n",
    "\n",
    "    def another_function\n",
    "        print(\"Syntax errors are annoying.\")\n",
    "        print(\"But at least python tells us about them!\")\n",
    "        print(\"So they are usually not too hard to fix.\")"
   ]
  },
  {
   "cell_type": "code",
   "execution_count": 8,
   "metadata": {},
   "outputs": [],
   "source": [
    "## Solution\n",
    "\n",
    "def another_function():\n",
    "    print(\"Syntax errors are annoying.\")\n",
    "    print(\"But at least Python tells us about them!\")\n",
    "    print(\"So they are usually not too hard to fix.\")"
   ]
  },
  {
   "cell_type": "markdown",
   "metadata": {},
   "source": [
    "### Excercise 2: Definition and Use\n",
    "\n",
    "What does the following program print?\n",
    "\n",
    "    def report(pressure):\n",
    "        print('pressure is', pressure)\n",
    "    print('calling', report, 22.5)"
   ]
  },
  {
   "cell_type": "code",
   "execution_count": 9,
   "metadata": {},
   "outputs": [
    {
     "name": "stdout",
     "output_type": "stream",
     "text": [
      "('calling', <function report at 0x7f5b585a3650>, 22.5)\n"
     ]
    }
   ],
   "source": [
    "# Solution:\n",
    "\n",
    "def report(pressure):\n",
    "    print('pressure is', pressure)\n",
    "print('calling', report, 22.5)"
   ]
  },
  {
   "cell_type": "markdown",
   "metadata": {},
   "source": [
    "A function call always needs parentheses, otherwise we get the memory address of the function object.\n",
    "\n",
    "So, if we wanted to call the function named `report`, and give it the value 22.5 to report on, we could have our function call as follows:"
   ]
  },
  {
   "cell_type": "code",
   "execution_count": 10,
   "metadata": {},
   "outputs": [
    {
     "name": "stdout",
     "output_type": "stream",
     "text": [
      "calling\n",
      "('pressure is', 22.5)\n"
     ]
    }
   ],
   "source": [
    "print(\"calling\")\n",
    "report(22.5)"
   ]
  },
  {
   "cell_type": "markdown",
   "metadata": {},
   "source": [
    "### Excercise 3: Order of Operations\n",
    "\n",
    "a) What's wrong in this example?\n",
    "\n",
    "    result = print_time(11, 37, 59)\n",
    "\n",
    "    def print_time(hour, minute, second):\n",
    "        time_string = str(hour) + ':' + str(minute) + ':' + str(second)\n",
    "        print(time_string)\n",
    "        \n",
    "b) After fixing the problem above, explain why running this example code:\n",
    "\n",
    "    result = print_time(11, 37, 59)\n",
    "    print('result of call is:', result)\n",
    "    \n",
    "gives this output:\n",
    "    \n",
    "    11:37:59\n",
    "    result of call is: None\n",
    "    \n",
    "c) Why is the result of the call `None`?"
   ]
  },
  {
   "cell_type": "markdown",
   "metadata": {},
   "source": [
    "**Solution**\n",
    "\n",
    "a. The problem with the example is that the function `print_time()` is defined *after* the call to the function is made. Python\n",
    "doesn't know how to resolve the name `print_time` since it hasn't been defined yet and will raise a `NameError`, i.e.,\n",
    "`NameError: name 'print_time' is not defined`\n",
    "\n",
    "b. The first line of output `11:37:59` is printed by the first line of code, `result = print_time(11, 37, 59)` that binds the value \n",
    "returned by invoking `print_time` to the variable `result`. The second line is from the second print call to print the contents \n",
    "of the `result` variable.\n",
    "\n",
    "c. `print_time()` does not explicitly `return` a value, so it automatically returns `None`."
   ]
  },
  {
   "cell_type": "markdown",
   "metadata": {},
   "source": [
    "### Excercise 4: Encapsulation\n",
    "\n",
    "Fill in the blanks to create a function that takes a list of numbers as an argument, and returns the square of the maximum number in that list.\n",
    "\n",
    "    def square_of_max(____):\n",
    "        data_max = ____\n",
    "        return ____"
   ]
  },
  {
   "cell_type": "code",
   "execution_count": 11,
   "metadata": {},
   "outputs": [],
   "source": [
    "# solution\n",
    "\n",
    "def square_of_max(number_list):\n",
    "    data_max = max(number_list)\n",
    "    return data_max**2"
   ]
  },
  {
   "cell_type": "markdown",
   "metadata": {},
   "source": [
    "### Excercise 5: Find the First\n",
    "\n",
    "Fill in the blanks to create a function that takes a list of numbers as an argument and returns the first negative value in the list.\n",
    "\n",
    "What does your function do if the list is empty?\n",
    "What if the list has no negative numbers?\n",
    "\n",
    "    def first_negative(values):\n",
    "        for v in ____:\n",
    "            if ____:\n",
    "                return ____"
   ]
  },
  {
   "cell_type": "code",
   "execution_count": 12,
   "metadata": {},
   "outputs": [],
   "source": [
    "# solution\n",
    "\n",
    "def first_negative(values):\n",
    "    for v in values:\n",
    "        if v < 0:\n",
    "            return v"
   ]
  },
  {
   "cell_type": "markdown",
   "metadata": {},
   "source": [
    "If an empty list or a list with all non-negative values is passed to this function, it returns `None`:"
   ]
  },
  {
   "cell_type": "code",
   "execution_count": 13,
   "metadata": {},
   "outputs": [
    {
     "name": "stdout",
     "output_type": "stream",
     "text": [
      "None\n"
     ]
    }
   ],
   "source": [
    "my_list = []\n",
    "print(first_negative(my_list))"
   ]
  },
  {
   "cell_type": "markdown",
   "metadata": {},
   "source": [
    "### Excercise 6: Calling by Name\n",
    "\n",
    "Earlier we saw this function:\n",
    "\n",
    "    def print_date(year, month, day):\n",
    "        joined = str(year) + '/' + str(month) + '/' + str(day)\n",
    "        print(joined)\n",
    "        \n",
    "We saw that we can call the function using *named arguments*, like this:\n",
    "\n",
    "    print_date(day=1, month=2, year=2003)\n",
    "\n",
    "1.  What does `print_date(day=1, month=2, year=2003)` print?\n",
    "2.  When and why is it useful to call functions this way?"
   ]
  },
  {
   "cell_type": "markdown",
   "metadata": {},
   "source": [
    "**solution** \n",
    "\n",
    "1. `2003/2/1`\n",
    "2. Using named arguments can make code more readable since one can see from the function call what name the different arguments have inside the function. It can also reduce the chances of passing arguments in the wrong order, since by using named arguments the order doesn't matter."
   ]
  },
  {
   "cell_type": "markdown",
   "metadata": {},
   "source": [
    "### Excercise 7: Encapsulation of an If/Print Block\n",
    "\n",
    "The code below will run on a label-printer for chicken eggs.  A digital scale will report a chicken egg mass (in grams) \n",
    "to the computer and then the computer will print a label.\n",
    "\n",
    "\n",
    "    import random\n",
    "    for i in range(10):\n",
    "        # simulating the mass of a chicken egg\n",
    "        # the (random) mass will be 70 +/- 20 grams\n",
    "        mass = 70 + 20.0 * (2.0 * random.random() - 1.0)\n",
    "        print(mass)\n",
    "\n",
    "        # egg sizing machinery prints a label\n",
    "        if mass >= 85:\n",
    "            print(\"jumbo\")\n",
    "        elif mass >= 70:\n",
    "            print(\"large\")\n",
    "        elif mass < 70 and mass >= 55:\n",
    "            print(\"medium\")\n",
    "        else:\n",
    "            print(\"small\")\n",
    "            \n",
    "The `if-block` that classifies the eggs might be useful in other situations, so to avoid repeating it, we could fold it into a function, `get_egg_label()`.\n",
    "\n",
    "Revising the program to use the function would give us this:\n",
    "\n",
    "#### revised version:\n",
    "\n",
    "    import random\n",
    "    for i in range(10):\n",
    "        # simulating the mass of a chicken egg\n",
    "        # the (random) mass will be 70 +/- 20 grams\n",
    "        mass = 70 + 20.0 * (2.0 * random.random() - 1.0)\n",
    "        print(mass, get_egg_label(mass))\n",
    "        \n",
    "1. Create a function definition for `get_egg_label()` that will work with the revised program above.  Note that the `get_egg_label()` function's return value will be important. Sample output from the above program would be `71.23 large`.\n",
    "\n",
    "2. A dirty egg might have a mass of more than 90 grams, and a spoiled or broken egg will probably have a mass that's less than 50 grams.  Modify your `get_egg_label()` function to account for these error conditions. Sample output could be `25 too light, probably spoiled`."
   ]
  },
  {
   "cell_type": "code",
   "execution_count": 14,
   "metadata": {},
   "outputs": [
    {
     "name": "stdout",
     "output_type": "stream",
     "text": [
      "(50.83333958783783, 'small')\n",
      "(68.40716417960377, 'medium')\n",
      "(75.69417267940862, 'large')\n",
      "(63.99743333410866, 'medium')\n",
      "(65.15206599833644, 'medium')\n",
      "(62.491854400199315, 'medium')\n",
      "(58.57006020097186, 'medium')\n",
      "(73.34784343613876, 'large')\n",
      "(89.61791760839658, 'jumbo')\n",
      "(81.31722199110506, 'large')\n"
     ]
    }
   ],
   "source": [
    "# solution\n",
    "\n",
    "import random\n",
    "\n",
    "\n",
    "def get_egg_label(mass):\n",
    "    # egg sizing machinery prints a label\n",
    "    egg_label = \"Unlabelled\"\n",
    "    if mass >= 90:\n",
    "        egg_label = \"warning: egg might be dirty\"\n",
    "    elif mass >= 85:\n",
    "        egg_label = \"jumbo\"\n",
    "    elif mass >= 70:\n",
    "        egg_label = \"large\"\n",
    "    elif mass < 70 and mass >= 55:\n",
    "        egg_label = \"medium\"\n",
    "    elif mass < 50:\n",
    "        egg_label = \"too light, probably spoiled\"\n",
    "    else:\n",
    "        egg_label = \"small\"\n",
    "    return egg_label\n",
    "\n",
    "\n",
    "for i in range(10):\n",
    "    # simulating the mass of a chicken egg\n",
    "    # the (random) mass will be 70 +/- 20 grams\n",
    "    mass = 70 + 20.0 * (2.0 * random.random() - 1.0)\n",
    "    print(mass, get_egg_label(mass))"
   ]
  },
  {
   "cell_type": "markdown",
   "metadata": {},
   "source": [
    "### Excercise 8: Simulating a dynamical system\n",
    "\n",
    "In mathematics, a [dynamical system](https://en.wikipedia.org/wiki/Dynamical_system) is a system in which a function describes the time dependence of a point in a geometrical space. A canonical example of a dynamical system is the [logistic map](https://en.wikipedia.org/wiki/Logistic_map), a growth model that computes a new population density (between 0 and 1) based on the current density. In the model, time takes discrete values 0, 1, 2, ...\n",
    "\n",
    "1. Define a function called `logistic_map` that takes two inputs: `x`, representing the current population (at time `t`), and a parameter `r = 1`. This function should return a value representing the state of the system (population) at time `t + 1`, using the mapping function:\n",
    "\n",
    "    `f(t+1) = r * f(t) * [1 - f(t)]`\n",
    "\n",
    "2. Using a `for` or `while` loop, iterate the `logistic_map` function defined in part 1, starting from an initial population of 0.5, for a period of time `t_final = 10`. Store the intermediate results in a list so that after the loop terminates you have accumulated a sequence of values representing the state of the logistic map at times `t = [0, 1, ..., t_final]` (11 values in total). Print this list to see the evolution of the population.\n",
    "\n",
    "3. Encapsulate the logic of your loop into a function called `iterate` that takes the initial population as its first input, the parameter `t_final` as its second input and the parameter `r` as its third input. Note that here, we are using 'input' as a synonym for 'argument.' The function should return the list of values representing the state of the logistic map at times `t = [0, 1, ..., t_final]`. Run this function for periods `t_final = 100` and `1000` and print some of the values. Is the population trending toward a steady state?"
   ]
  },
  {
   "cell_type": "markdown",
   "metadata": {},
   "source": [
    "**solution**\n"
   ]
  },
  {
   "cell_type": "code",
   "execution_count": 15,
   "metadata": {},
   "outputs": [],
   "source": [
    "# 1.\n",
    "def logistic_map(x, r):\n",
    "    return r * x * (1 - x)"
   ]
  },
  {
   "cell_type": "code",
   "execution_count": 16,
   "metadata": {},
   "outputs": [],
   "source": [
    "# 2. \n",
    "initial_population = 0.5\n",
    "t_final = 10\n",
    "r = 1.0\n",
    "population = [initial_population]\n",
    "for t in range(t_final):\n",
    "    population.append( logistic_map(population[t], r) )"
   ]
  },
  {
   "cell_type": "code",
   "execution_count": 17,
   "metadata": {},
   "outputs": [
    {
     "name": "stdout",
     "output_type": "stream",
     "text": [
      "0.0694508938971\n",
      "0.00939577987061\n",
      "0.000991390861441\n"
     ]
    }
   ],
   "source": [
    "# 3\n",
    "def iterate(initial_population, t_final, r):\n",
    "    population = [initial_population]\n",
    "    for t in range(t_final):\n",
    "        population.append( logistic_map(population[t], r) )\n",
    "    return population\n",
    "\n",
    "for period in (10, 100, 1000):\n",
    "    population = iterate(0.5, period, 1)\n",
    "    print(population[-1])"
   ]
  },
  {
   "cell_type": "markdown",
   "metadata": {},
   "source": [
    "The population seems to be approaching zero"
   ]
  },
  {
   "cell_type": "code",
   "execution_count": null,
   "metadata": {},
   "outputs": [],
   "source": []
  }
 ],
 "metadata": {
  "kernelspec": {
   "display_name": "python39",
   "language": "python",
   "name": "python39"
  },
  "language_info": {
   "codemirror_mode": {
    "name": "ipython",
    "version": 2
   },
   "file_extension": ".py",
   "mimetype": "text/x-python",
   "name": "python",
   "nbconvert_exporter": "python",
   "pygments_lexer": "ipython2",
   "version": "2.7.17"
  }
 },
 "nbformat": 4,
 "nbformat_minor": 2
}
