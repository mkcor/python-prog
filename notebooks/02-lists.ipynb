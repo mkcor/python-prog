{
 "cells": [
  {
   "cell_type": "markdown",
   "id": "97b8e624-531f-4ddc-8a1c-47fadc5b45b1",
   "metadata": {},
   "source": [
    "# Storing Multiple Values in Lists"
   ]
  },
  {
   "cell_type": "markdown",
   "id": "ea685aff-374f-4f02-b7b1-f0ca609ecbb7",
   "metadata": {},
   "source": [
    "### Nested lists\n",
    "\n",
    "Here is a visual example of how indexing a list of lists `x` works:\n",
    "\n",
    "![`x` is represented as a pepper shaker containing several packets of pepper.\n",
    "`x[0]` is represented as a single packet of pepper.\n",
    "`[x[0]]` would then be represented as a pepper shaker containing a single packet\n",
    "of pepper. `x[0][0]` is represented as single grain of pepper.\n",
    "Adapted from Hadley Wickham.](../fig/indexing_lists_python.png)"
   ]
  },
  {
   "cell_type": "markdown",
   "id": "b5d05662-4200-4951-a41b-29f2fa9f71be",
   "metadata": {},
   "source": [
    "### Slicing From the End\n",
    "\n",
    "Use slicing to access only the last four characters of a string and the last four entries of a list."
   ]
  },
  {
   "cell_type": "code",
   "execution_count": null,
   "id": "5627ccff-774f-4b92-a04b-f9e05c376bef",
   "metadata": {},
   "outputs": [],
   "source": [
    "string_for_slicing = 'Observation date: 02-Feb-2013'\n",
    "list_for_slicing = [['fluorine', 'F'],\n",
    "                    ['chlorine', 'Cl'],\n",
    "                    ['bromine', 'Br'],\n",
    "                    ['iodine', 'I'],\n",
    "                    ['astatine', 'At']]"
   ]
  },
  {
   "cell_type": "code",
   "execution_count": null,
   "id": "917f6c1a-e6d5-42f4-b30e-603f82bf6566",
   "metadata": {},
   "outputs": [],
   "source": [
    "'2013'\n",
    "[['chlorine', 'Cl'], ['bromine', 'Br'], ['iodine', 'I'], ['astatine', 'At']]"
   ]
  },
  {
   "cell_type": "markdown",
   "id": "23167b75-7ff9-42e4-9893-d19631d43166",
   "metadata": {},
   "source": [
    "Would your solution work regardless of whether you knew beforehand the length of the string or list (e.g., if you wanted to apply the solution to a set of lists of different lengths)? If not, try to change your approach to make it more robust.\n",
    "\n",
    "Hint: Remember that indices can be negative as well as positive."
   ]
  },
  {
   "cell_type": "markdown",
   "id": "ce2b4493-2ae3-404b-887a-2d3aa7a4f7d3",
   "metadata": {
    "tags": []
   },
   "source": [
    "### Overloading\n",
    "\n",
    "`+` usually means addition, but when used on strings or lists, it means \"concatenate\". Try it out! Given that, what do you think the multiplication operator `*` does on lists? In particular, what will be the output of the following code?"
   ]
  },
  {
   "cell_type": "code",
   "execution_count": null,
   "id": "c04d4c79-201e-4a72-bf4f-207de29a498a",
   "metadata": {},
   "outputs": [],
   "source": [
    "counts = [2, 4, 6, 8, 10]\n",
    "repeats = counts * 2\n",
    "print(repeats)"
   ]
  },
  {
   "cell_type": "markdown",
   "id": "5cfca4cc-8e7c-4b69-801b-9f83cac9e045",
   "metadata": {},
   "source": [
    "1. `[[2, 4, 6, 8, 10],[2, 4, 6, 8, 10]]`\n",
    "2. `[4, 8, 12, 16, 20]`\n",
    "3. `[2, 4, 6, 8, 10, 2, 4, 6, 8, 10]`\n",
    "4. `[2, 4, 6, 8, 10, 4, 8, 12, 16, 20]`\n",
    "\n",
    "The technical term for this is *operator overloading*: a single operator, like `+` or `*`, can do different things depending on what it's applied to."
   ]
  }
 ],
 "metadata": {
  "kernelspec": {
   "display_name": "Python 3 (ipykernel)",
   "language": "python",
   "name": "python3"
  },
  "language_info": {
   "codemirror_mode": {
    "name": "ipython",
    "version": 3
   },
   "file_extension": ".py",
   "mimetype": "text/x-python",
   "name": "python",
   "nbconvert_exporter": "python",
   "pygments_lexer": "ipython3",
   "version": "3.11.0"
  }
 },
 "nbformat": 4,
 "nbformat_minor": 5
}
