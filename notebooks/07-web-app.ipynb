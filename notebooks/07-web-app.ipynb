{
 "cells": [
  {
   "cell_type": "markdown",
   "id": "6babb21f-988c-4587-bdba-b8363efd727b",
   "metadata": {},
   "source": [
    "# Creating Interactive Data Visualizations"
   ]
  },
  {
   "cell_type": "markdown",
   "id": "5dc68c08-9ab7-4b0c-bfc2-938f464cb75c",
   "metadata": {},
   "source": [
    "### Choosing Descriptive Function and Variable Names\n",
    "\n",
    "1. Write a function to plot the timeseries up to a given time point.\n",
    "2. What do you think about the names of your function and its parameter?"
   ]
  },
  {
   "cell_type": "markdown",
   "id": "547beff2-da3e-421d-8f5d-40c9e061c1b9",
   "metadata": {},
   "source": [
    "### Creating a Good-Looking Interactive Dashboard\n",
    "\n",
    "1. Open a new notebook and create a Markdown cell: Write \"Runners' Dashboard\" as a title.\n",
    "2. Re-create the interactive plot with a dropdown menu which lets the user visualize either Emma's or Jane's position over time. Maybe add markers to the line and fix the lower and upper limits of the y-axis.\n",
    "3. Render the notebook as a web app."
   ]
  }
 ],
 "metadata": {
  "kernelspec": {
   "display_name": "Python 3 (ipykernel)",
   "language": "python",
   "name": "python3"
  },
  "language_info": {
   "codemirror_mode": {
    "name": "ipython",
    "version": 3
   },
   "file_extension": ".py",
   "mimetype": "text/x-python",
   "name": "python",
   "nbconvert_exporter": "python",
   "pygments_lexer": "ipython3",
   "version": "3.11.0"
  }
 },
 "nbformat": 4,
 "nbformat_minor": 5
}
