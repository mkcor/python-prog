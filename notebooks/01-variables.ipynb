{
 "cells": [
  {
   "cell_type": "markdown",
   "id": "ef1d2b4d-7e8f-4156-8b04-64fe351c21f3",
   "metadata": {},
   "source": [
    "# Assigning Values to Variables"
   ]
  },
  {
   "cell_type": "markdown",
   "id": "b0cc0a60-36c6-4c5e-9864-ba7393d4e495",
   "metadata": {},
   "source": [
    "### Check Your Understanding\n",
    "\n",
    "* What values do the variables `mass` and `age` have after each of the following statements?\n",
    "* Test your answer by executing the lines."
   ]
  },
  {
   "cell_type": "code",
   "execution_count": null,
   "id": "18214549-5344-437e-86d2-c16de9bea9bc",
   "metadata": {},
   "outputs": [],
   "source": [
    "mass = 47.5\n",
    "age = 122\n",
    "mass = mass * 2.0\n",
    "age = age - 20"
   ]
  },
  {
   "cell_type": "markdown",
   "id": "74a0fc35-26ac-440a-8a22-e923c19a045d",
   "metadata": {},
   "source": [
    "### Sorting Out References\n",
    "\n",
    "Python allows you to assign multiple values to multiple variables in one line by separating the variables and values with commas. What does the following program print out?"
   ]
  },
  {
   "cell_type": "code",
   "execution_count": null,
   "id": "8672a132-25b5-4958-8910-aed22d2bb4de",
   "metadata": {},
   "outputs": [],
   "source": [
    "first, second = 'Grace', 'Hopper'\n",
    "third, fourth = second, first\n",
    "print(third, fourth)"
   ]
  },
  {
   "cell_type": "code",
   "execution_count": null,
   "id": "3d8acbb0-2fec-4b78-b8b0-bd3a7f59c50a",
   "metadata": {},
   "outputs": [],
   "source": [
    "planet = 'Earth'\n",
    "apples = 5\n",
    "distance = 10.5"
   ]
  }
 ],
 "metadata": {
  "kernelspec": {
   "display_name": "Python 3 (ipykernel)",
   "language": "python",
   "name": "python3"
  },
  "language_info": {
   "codemirror_mode": {
    "name": "ipython",
    "version": 3
   },
   "file_extension": ".py",
   "mimetype": "text/x-python",
   "name": "python",
   "nbconvert_exporter": "python",
   "pygments_lexer": "ipython3",
   "version": "3.11.0"
  }
 },
 "nbformat": 4,
 "nbformat_minor": 5
}
