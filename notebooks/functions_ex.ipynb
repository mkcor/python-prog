{
 "cells": [
  {
   "cell_type": "markdown",
   "metadata": {},
   "source": [
    "### Excercise 1: Identifying Syntax Errors\n",
    "\n",
    "1. Read the code below and try to identify what the errors are\n",
    "   *without* running it.\n",
    "2. Run the code and read the error message.\n",
    "   Is it a `SyntaxError` or an `IndentationError`?\n",
    "3. Fix the error.\n",
    "4. Repeat steps 2 and 3 until you have fixed all the errors.\n",
    "\n",
    "\n",
    "    def another_function\n",
    "        print(\"Syntax errors are annoying.\")\n",
    "        print(\"But at least python tells us about them!\")\n",
    "        print(\"So they are usually not too hard to fix.\")"
   ]
  },
  {
   "cell_type": "markdown",
   "metadata": {},
   "source": [
    "### Excercise 2: Definition and Use\n",
    "\n",
    "What does the following program print?\n",
    "\n",
    "    def report(pressure):\n",
    "        print('pressure is', pressure)\n",
    "    print('calling', report, 22.5)"
   ]
  },
  {
   "cell_type": "markdown",
   "metadata": {},
   "source": [
    "### Excercise 3: Order of Operations\n",
    "\n",
    "a) What's wrong in this example?\n",
    "\n",
    "    result = print_time(11, 37, 59)\n",
    "\n",
    "    def print_time(hour, minute, second):\n",
    "        time_string = str(hour) + ':' + str(minute) + ':' + str(second)\n",
    "        print(time_string)\n",
    "        \n",
    "b) After fixing the problem above, explain why running this example code:\n",
    "\n",
    "    result = print_time(11, 37, 59)\n",
    "    print('result of call is:', result)\n",
    "    \n",
    "gives this output:\n",
    "    \n",
    "    11:37:59\n",
    "    result of call is: None\n",
    "    \n",
    "c) Why is the result of the call `None`?"
   ]
  },
  {
   "cell_type": "markdown",
   "metadata": {},
   "source": [
    "### Excercise 4: Encapsulation\n",
    "\n",
    "Fill in the blanks to create a function that takes a list of numbers as an argument, and returns the square of the maximum number in that list.\n",
    "\n",
    "    def square_of_max(____):\n",
    "        data_max = ____\n",
    "        return ____"
   ]
  },
  {
   "cell_type": "markdown",
   "metadata": {},
   "source": [
    "### Excercise 5: Find the First\n",
    "\n",
    "Fill in the blanks to create a function that takes a list of numbers as an argument and returns the first negative value in the list.\n",
    "\n",
    "What does your function do if the list is empty?\n",
    "What if the list has no negative numbers?\n",
    "\n",
    "    def first_negative(values):\n",
    "        for v in ____:\n",
    "            if ____:\n",
    "                return ____"
   ]
  },
  {
   "cell_type": "markdown",
   "metadata": {},
   "source": [
    "### Excercise 6: Calling by Name\n",
    "\n",
    "Earlier we saw this function:\n",
    "\n",
    "    def print_date(year, month, day):\n",
    "        joined = str(year) + '/' + str(month) + '/' + str(day)\n",
    "        print(joined)\n",
    "        \n",
    "We saw that we can call the function using *named arguments*, like this:\n",
    "\n",
    "    print_date(day=1, month=2, year=2003)\n",
    "\n",
    "1.  What does `print_date(day=1, month=2, year=2003)` print?\n",
    "2.  When and why is it useful to call functions this way?"
   ]
  },
  {
   "cell_type": "markdown",
   "metadata": {},
   "source": [
    "### Excercise 7: Encapsulation of an If/Print Block\n",
    "\n",
    "The code below will run on a label-printer for chicken eggs.  A digital scale will report a chicken egg mass (in grams) \n",
    "to the computer and then the computer will print a label.\n",
    "\n",
    "\n",
    "    import random\n",
    "    for i in range(10):\n",
    "        # simulating the mass of a chicken egg\n",
    "        # the (random) mass will be 70 +/- 20 grams\n",
    "        mass = 70 + 20.0 * (2.0 * random.random() - 1.0)\n",
    "        print(mass)\n",
    "\n",
    "        # egg sizing machinery prints a label\n",
    "        if mass >= 85:\n",
    "            print(\"jumbo\")\n",
    "        elif mass >= 70:\n",
    "            print(\"large\")\n",
    "        elif mass < 70 and mass >= 55:\n",
    "            print(\"medium\")\n",
    "        else:\n",
    "            print(\"small\")\n",
    "            \n",
    "The `if-block` that classifies the eggs might be useful in other situations, so to avoid repeating it, we could fold it into a function, `get_egg_label()`.\n",
    "\n",
    "Revising the program to use the function would give us this:\n",
    "\n",
    "#### revised version:\n",
    "\n",
    "    import random\n",
    "    for i in range(10):\n",
    "        # simulating the mass of a chicken egg\n",
    "        # the (random) mass will be 70 +/- 20 grams\n",
    "        mass = 70 + 20.0 * (2.0 * random.random() - 1.0)\n",
    "        print(mass, get_egg_label(mass))\n",
    "        \n",
    "1. Create a function definition for `get_egg_label()` that will work with the revised program above.  Note that the `get_egg_label()` function's return value will be important. Sample output from the above program would be `71.23 large`.\n",
    "\n",
    "2. A dirty egg might have a mass of more than 90 grams, and a spoiled or broken egg will probably have a mass that's less than 50 grams.  Modify your `get_egg_label()` function to account for these error conditions. Sample output could be `25 too light, probably spoiled`."
   ]
  },
  {
   "cell_type": "markdown",
   "metadata": {},
   "source": [
    "### Excercise 8: Simulating a dynamical system\n",
    "\n",
    "In mathematics, a [dynamical system](https://en.wikipedia.org/wiki/Dynamical_system) is a system in which a function describes the time dependence of a point in a geometrical space. A canonical example of a dynamical system is the [logistic map](https://en.wikipedia.org/wiki/Logistic_map), a growth model that computes a new population density (between 0 and 1) based on the current density. In the model, time takes discrete values 0, 1, 2, ...\n",
    "\n",
    "1. Define a function called `logistic_map` that takes two inputs: `x`, representing the current population (at time `t`), and a parameter `r = 1`. This function should return a value representing the state of the system (population) at time `t + 1`, using the mapping function:\n",
    "\n",
    "    `f(t+1) = r * f(t) * [1 - f(t)]`\n",
    "\n",
    "2. Using a `for` or `while` loop, iterate the `logistic_map` function defined in part 1, starting from an initial population of 0.5, for a period of time `t_final = 10`. Store the intermediate results in a list so that after the loop terminates you have accumulated a sequence of values representing the state of the logistic map at times `t = [0, 1, ..., t_final]` (11 values in total). Print this list to see the evolution of the population.\n",
    "\n",
    "3. Encapsulate the logic of your loop into a function called `iterate` that takes the initial population as its first input, the parameter `t_final` as its second input and the parameter `r` as its third input. Note that here, we are using 'input' as a synonym for 'argument.' The function should return the list of values representing the state of the logistic map at times `t = [0, 1, ..., t_final]`. Run this function for periods `t_final = 100` and `1000` and print some of the values. Is the population trending toward a steady state?"
   ]
  },
  {
   "cell_type": "code",
   "execution_count": null,
   "metadata": {},
   "outputs": [],
   "source": []
  }
 ],
 "metadata": {
  "kernelspec": {
   "display_name": "python39",
   "language": "python",
   "name": "python39"
  },
  "language_info": {
   "codemirror_mode": {
    "name": "ipython",
    "version": 2
   },
   "file_extension": ".py",
   "mimetype": "text/x-python",
   "name": "python",
   "nbconvert_exporter": "python",
   "pygments_lexer": "ipython2",
   "version": "2.7.17"
  }
 },
 "nbformat": 4,
 "nbformat_minor": 2
}
