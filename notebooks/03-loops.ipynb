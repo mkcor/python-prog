{
 "cells": [
  {
   "cell_type": "markdown",
   "id": "cd5401e2-7437-41cd-b340-34fc91267ebf",
   "metadata": {},
   "source": [
    "# Repeating Actions with Loops"
   ]
  },
  {
   "cell_type": "markdown",
   "id": "ad07e42e-ce2b-4a63-bc64-8bb54657e618",
   "metadata": {},
   "source": [
    "### Tracing Execution\n",
    "\n",
    "Create a table showing the numbers of the lines that are executed when this program runs, and the values of the variables after each line is executed."
   ]
  },
  {
   "cell_type": "code",
   "execution_count": null,
   "id": "0ccc9f66-e425-456a-aac6-b2ef9202c3a4",
   "metadata": {},
   "outputs": [],
   "source": [
    "total = 0\n",
    "for char in \"tin\":\n",
    "    total = total + 1"
   ]
  },
  {
   "cell_type": "markdown",
   "id": "0cb6c3f7-b977-4e22-8c89-9d01b9919e59",
   "metadata": {},
   "source": [
    "### From 1 to N                                                               \n",
    "\n",
    "Python has a built-in function called `range` that generates a sequence of   \n",
    "numbers. `range` accepts 1, 2, or 3 parameters.                              \n",
    "\n",
    "* If one parameter is given, `range` generates a sequence of that length,    \n",
    "starting at zero and incrementing by 1.                                    \n",
    "For example, `range(3)` produces the numbers `0, 1, 2`.                    \n",
    "* If two parameters are given, `range` starts at the first and ends just     \n",
    "before the second, incrementing by one.                                    \n",
    "For example, `range(2, 5)` produces `2, 3, 4`.                             \n",
    "* If three parameters are given, `range` starts at the first one, ends just  \n",
    "before the second one, and increments by the third one.                    \n",
    "For example, `range(3, 10, 2)` produces `3, 5, 7, 9`.                      \n",
    "\n",
    "Note that `range(N)` is not a list: The numbers are produced on demand to    \n",
    "make looping over large ranges more efficient.\n",
    "\n",
    "How does `range(len(odds))` relate with the indices of `odds`?"
   ]
  },
  {
   "cell_type": "markdown",
   "id": "c87e7496-ca68-4921-ae1c-0278a78b0652",
   "metadata": {},
   "source": [
    "### Reversing a String\n",
    "\n",
    "Fill in the blanks in the program below so that it prints \"nit\" (the reverse of the original character string \"tin\")."
   ]
  },
  {
   "cell_type": "code",
   "execution_count": null,
   "id": "a14ee058-3f00-45d1-8eff-9bd3938a5ed1",
   "metadata": {},
   "outputs": [],
   "source": [
    "original = \"tin\"\n",
    "result = ...\n",
    "for char in original:\n",
    "    result = ...\n",
    "print(result)"
   ]
  },
  {
   "cell_type": "markdown",
   "id": "2c096e36-adbc-4b54-8f02-2e7635e02392",
   "metadata": {},
   "source": [
    "### Doing Calculations for many Patients\n",
    "\n",
    "Given this nested list where the first position contains patient identifiers and the second position, their respective weights:"
   ]
  },
  {
   "cell_type": "code",
   "execution_count": null,
   "id": "723787a8-3ef0-4e71-99e3-e65772826681",
   "metadata": {},
   "outputs": [],
   "source": [
    "weights_kg = [['inflam_001', 'inflam_002', 'inflam_003'],\n",
    "              [60.3, 65.2, 55.5]]"
   ]
  }
 ],
 "metadata": {
  "kernelspec": {
   "display_name": "Python 3 (ipykernel)",
   "language": "python",
   "name": "python3"
  },
  "language_info": {
   "codemirror_mode": {
    "name": "ipython",
    "version": 3
   },
   "file_extension": ".py",
   "mimetype": "text/x-python",
   "name": "python",
   "nbconvert_exporter": "python",
   "pygments_lexer": "ipython3",
   "version": "3.11.0"
  }
 },
 "nbformat": 4,
 "nbformat_minor": 5
}
