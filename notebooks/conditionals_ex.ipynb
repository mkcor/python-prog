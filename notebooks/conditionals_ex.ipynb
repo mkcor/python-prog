{
 "cells": [
  {
   "cell_type": "markdown",
   "metadata": {},
   "source": [
    "### Excercise 1: What does this program print?\n",
    "\n",
    "    pressure = 71.9\n",
    "    if pressure > 50.0:\n",
    "        pressure = 25.0\n",
    "    elif pressure <= 50.0:\n",
    "        pressure = 0.0\n",
    "    print(pressure)"
   ]
  },
  {
   "cell_type": "markdown",
   "metadata": {},
   "source": [
    "### Excercise 2: Trimming Values\n",
    "\n",
    "Fill in the blanks so that this program creates a new list containing zeroes where the original list's values were negative and ones where the original list's values were positive.\n",
    "\n",
    "    original = [-1.5, 0.2, 0.4, 0.0, -1.3, 0.4]\n",
    "    result = ____\n",
    "    for value in original:\n",
    "        if ____:\n",
    "            result.append(0)\n",
    "        else:\n",
    "            ____\n",
    "    print(result)\n",
    "\n",
    "expected output:\n",
    "\n",
    "[0, 1, 1, 1, 0, 1]"
   ]
  },
  {
   "cell_type": "markdown",
   "metadata": {},
   "source": [
    "### Excercise 3: Initializing\n",
    "\n",
    "Modify this program so that it finds the largest and smallest values in the list no matter what the range of values originally is.\n",
    "\n",
    "    values = [...some test data...]\n",
    "    smallest, largest = None, None\n",
    "    for v in values:\n",
    "        if ____:\n",
    "            smallest, largest = v, v\n",
    "        ____:\n",
    "            smallest = min(____, v)\n",
    "            largest = max(____, v)\n",
    "    print(smallest, largest)\n",
    "    \n",
    "What are the advantages and disadvantages of using this method to find the range of the data?"
   ]
  },
  {
   "cell_type": "code",
   "execution_count": null,
   "metadata": {},
   "outputs": [],
   "source": []
  }
 ],
 "metadata": {
  "kernelspec": {
   "display_name": "python39",
   "language": "python",
   "name": "python39"
  },
  "language_info": {
   "codemirror_mode": {
    "name": "ipython",
    "version": 2
   },
   "file_extension": ".py",
   "mimetype": "text/x-python",
   "name": "python",
   "nbconvert_exporter": "python",
   "pygments_lexer": "ipython2",
   "version": "2.7.17"
  }
 },
 "nbformat": 4,
 "nbformat_minor": 2
}
