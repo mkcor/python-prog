{
 "cells": [
  {
   "cell_type": "markdown",
   "metadata": {},
   "source": [
    "# 04 Conditionals"
   ]
  },
  {
   "cell_type": "markdown",
   "metadata": {},
   "source": [
    "Use **if statements** to control whether or not a block of code is executed."
   ]
  },
  {
   "cell_type": "markdown",
   "metadata": {},
   "source": [
    "An **if statement** (more properly called a conditional statement) controls whether some block of code is executed or not.\n",
    "\n",
    "Structure is similar to a *for* statement:\n",
    "\n",
    "First line opens with *if* and ends with a colon\n",
    "Body containing one or more statements is indented (usually by 4 spaces)"
   ]
  },
  {
   "cell_type": "code",
   "execution_count": 1,
   "metadata": {},
   "outputs": [
    {
     "name": "stdout",
     "output_type": "stream",
     "text": [
      "(3.54, 'is large')\n"
     ]
    }
   ],
   "source": [
    "mass = 3.54\n",
    "if mass > 3.0:\n",
    "    print(mass, 'is large')"
   ]
  },
  {
   "cell_type": "code",
   "execution_count": null,
   "metadata": {},
   "outputs": [],
   "source": [
    "mass = 2.07\n",
    "if mass > 3.0:\n",
    "    print(mass, 'is large')"
   ]
  },
  {
   "cell_type": "markdown",
   "metadata": {},
   "source": [
    "Conditionals are often used inside loops."
   ]
  },
  {
   "cell_type": "markdown",
   "metadata": {},
   "source": [
    "<div class=\"alert alert-block alert-info\">\n",
    "<b>Note:</b> Not much point using a conditional when we know the value (as above).\n",
    "But useful when we have a sequence to process.\n",
    "</div>"
   ]
  },
  {
   "cell_type": "code",
   "execution_count": 5,
   "metadata": {},
   "outputs": [
    {
     "name": "stdout",
     "output_type": "stream",
     "text": [
      "(3.54, 'is large')\n",
      "(9.22, 'is large')\n"
     ]
    }
   ],
   "source": [
    "masses = [3.54, 2.07, 9.22, 1.86, 1.71]\n",
    "for m in masses:\n",
    "    if m > 3.0:\n",
    "        print(m, 'is large')"
   ]
  },
  {
   "cell_type": "markdown",
   "metadata": {},
   "source": [
    "Use **else** to execute a block of code when an **if** condition is not true."
   ]
  },
  {
   "cell_type": "markdown",
   "metadata": {},
   "source": [
    "<div class=\"alert alert-block alert-info\">\n",
    "<b>Note:</b> \n",
    "'else' can be used following an 'if'.\n",
    "\n",
    "Allows us to specify an alternative to execute when the if branch isn't taken.\n",
    "</div>  "
   ]
  },
  {
   "cell_type": "code",
   "execution_count": 6,
   "metadata": {},
   "outputs": [
    {
     "name": "stdout",
     "output_type": "stream",
     "text": [
      "(3.54, 'is large')\n",
      "(2.07, 'is small')\n",
      "(9.22, 'is large')\n",
      "(1.86, 'is small')\n",
      "(1.71, 'is small')\n"
     ]
    }
   ],
   "source": [
    "masses = [3.54, 2.07, 9.22, 1.86, 1.71]\n",
    "for m in masses:\n",
    "    if m > 3.0:\n",
    "        print(m, 'is large')\n",
    "    else:\n",
    "        print(m, 'is small')"
   ]
  },
  {
   "cell_type": "markdown",
   "metadata": {},
   "source": [
    "<div class=\"alert alert-block alert-info\">\n",
    "<b>Note:</b>\n",
    "    May want to provide several alternative choices, each with its own test.\n",
    "    \n",
    "    Use elif (short for \"else if\") and a condition to specify these.\n",
    "    Always associated with an if.\n",
    "    Must come before the else (which is the \"catch all\").\n",
    "</div>  "
   ]
  },
  {
   "cell_type": "code",
   "execution_count": 8,
   "metadata": {},
   "outputs": [
    {
     "name": "stdout",
     "output_type": "stream",
     "text": [
      "(3.54, 'is large')\n",
      "(2.07, 'is small')\n",
      "(9.22, 'is HUGE')\n",
      "(1.86, 'is small')\n",
      "(1.71, 'is small')\n"
     ]
    }
   ],
   "source": [
    "masses = [3.54, 2.07, 9.22, 1.86, 1.71]\n",
    "for m in masses:\n",
    "    if m > 9.0:\n",
    "        print(m, 'is HUGE')\n",
    "    elif m > 3.0:\n",
    "        print(m, 'is large')\n",
    "    else:\n",
    "        print(m, 'is small')"
   ]
  },
  {
   "cell_type": "markdown",
   "metadata": {},
   "source": [
    "Conditions are tested once, in order."
   ]
  },
  {
   "cell_type": "markdown",
   "metadata": {},
   "source": [
    "<div class=\"alert alert-block alert-info\">\n",
    "<b>Note:</b> \n",
    "Python steps through the branches of the conditional in order, testing each in turn.\n",
    "\n",
    "So ordering matters.\n",
    "</div>  "
   ]
  },
  {
   "cell_type": "code",
   "execution_count": 14,
   "metadata": {},
   "outputs": [
    {
     "name": "stdout",
     "output_type": "stream",
     "text": [
      "grade is C\n"
     ]
    }
   ],
   "source": [
    "grade = 85\n",
    "if grade >= 70:\n",
    "    print('grade is C')\n",
    "elif grade >= 80:\n",
    "    print('grade is B')\n",
    "elif grade >= 90:\n",
    "    print('grade is A')\n"
   ]
  },
  {
   "cell_type": "markdown",
   "metadata": {},
   "source": [
    "<div class=\"alert alert-block alert-info\">\n",
    "<b>Note:</b> \n",
    "It does not automatically go back and re-evaluate if values change.\n",
    "</div>  "
   ]
  },
  {
   "cell_type": "code",
   "execution_count": 15,
   "metadata": {},
   "outputs": [
    {
     "name": "stdout",
     "output_type": "stream",
     "text": [
      "adjusting velocity\n"
     ]
    }
   ],
   "source": [
    "velocity = 10.0\n",
    "if velocity > 20.0:\n",
    "    print('moving too fast')\n",
    "else:\n",
    "    print('adjusting velocity')\n",
    "    velocity = 50.0"
   ]
  },
  {
   "cell_type": "markdown",
   "metadata": {},
   "source": [
    "<div class=\"alert alert-block alert-info\">\n",
    "<b>Note:</b> \n",
    "Often use conditionals in a loop to \"evolve\" the values of variables.\n",
    "</div>"
   ]
  },
  {
   "cell_type": "code",
   "execution_count": 16,
   "metadata": {},
   "outputs": [
    {
     "name": "stdout",
     "output_type": "stream",
     "text": [
      "(0, ':', 10.0)\n",
      "moving too slow\n",
      "(1, ':', 20.0)\n",
      "moving too slow\n",
      "(2, ':', 30.0)\n",
      "moving too fast\n",
      "(3, ':', 25.0)\n",
      "moving too fast\n",
      "(4, ':', 20.0)\n",
      "moving too slow\n",
      "('final velocity:', 30.0)\n"
     ]
    }
   ],
   "source": [
    "velocity = 10.0\n",
    "for i in range(5): # execute the loop 5 times\n",
    "    print(i, ':', velocity)\n",
    "    if velocity > 20.0:\n",
    "        print('moving too fast')\n",
    "        velocity = velocity - 5.0\n",
    "    else:\n",
    "        print('moving too slow')\n",
    "        velocity = velocity + 10.0\n",
    "print('final velocity:', velocity)"
   ]
  },
  {
   "cell_type": "markdown",
   "metadata": {},
   "source": [
    "\n",
    "\n",
    "|    i   | 0    |.    |1      |.    |2      |.    |3      |.    |4      |.    |\n",
    "|--------|:---:|:---:|:-----|:---|:-----|:---|:-----|:---|:-----|:---|\n",
    "|Velocity|10.0  |20.0 |.      |30.0 |.      |25   |.      |20.0 |.      |30.0 |\n"
   ]
  },
  {
   "cell_type": "markdown",
   "metadata": {},
   "source": [
    "The program must have a `print` statement outside the body of the loop to show the final value of velocity, since its value is updated by the last iteration of the loop.\n",
    "\n",
    "### Compound Relations Using **and**, **or**, and **Parentheses**\n",
    "\n",
    "Often, you want some combination of things to be true. You can combine relations within a conditional using **and** and **or**. Continuing the example above, suppose you have:"
   ]
  },
  {
   "cell_type": "code",
   "execution_count": 19,
   "metadata": {},
   "outputs": [
    {
     "name": "stdout",
     "output_type": "stream",
     "text": [
      "Normal traffic\n",
      "Normal traffic\n",
      "Fast heavy object. Duck!\n",
      "Whoa!  Something is up with the data. Check it\n",
      "Slow light object. Ignore it\n"
     ]
    }
   ],
   "source": [
    "mass     = [ 3.54,  2.07,  9.22,  1.86,  1.71]\n",
    "velocity = [10.00, 20.00, 30.00, 25.00, 20.00]\n",
    "\n",
    "i = 0\n",
    "for i in range(5):\n",
    "    if mass[i] > 5 and velocity[i] > 20:\n",
    "        print(\"Fast heavy object. Duck!\")\n",
    "    elif mass[i] > 2 and mass[i] <= 5 and velocity[i] <= 20:\n",
    "        print(\"Normal traffic\")\n",
    "    elif mass[i] <= 2 and velocity[i] <= 20:\n",
    "        print(\"Slow light object. Ignore it\")\n",
    "    else:\n",
    "        print(\"Whoa!  Something is up with the data. Check it\")"
   ]
  },
  {
   "cell_type": "markdown",
   "metadata": {},
   "source": [
    "Just like with arithmetic, you can and should use parentheses whenever there is possible ambiguity. A good general rule is to always use parentheses when mixing **and** and **or** in the same condition. That is, instead of:"
   ]
  },
  {
   "cell_type": "markdown",
   "metadata": {},
   "source": [
    "    if mass[i] <= 2 or mass[i] >= 5 and velocity[i] > 20:\n",
    "\n",
    "write one of these:\n",
    "\n",
    "    if (mass[i] <= 2 or mass[i] >= 5) and velocity[i] > 20:\n",
    "    if mass[i] <= 2 or (mass[i] >= 5 and velocity[i] > 20):\n",
    "\n",
    "\n",
    "so it is perfectly clear to a reader (and to Python) what you really mean."
   ]
  },
  {
   "cell_type": "markdown",
   "metadata": {},
   "source": [
    "### Excercise 1: Tracing Execution\n",
    "\n",
    "What does this program print?"
   ]
  },
  {
   "cell_type": "code",
   "execution_count": 21,
   "metadata": {},
   "outputs": [
    {
     "name": "stdout",
     "output_type": "stream",
     "text": [
      "25.0\n"
     ]
    }
   ],
   "source": [
    "pressure = 71.9\n",
    "if pressure > 50.0:\n",
    "    pressure = 25.0\n",
    "elif pressure <= 50.0:\n",
    "    pressure = 0.0\n",
    "print(pressure)"
   ]
  },
  {
   "cell_type": "markdown",
   "metadata": {},
   "source": [
    "### Excercise 2: Trimming Values\n",
    "\n",
    "Fill in the blanks so that this program creates a new list containing zeroes where the original list's values were negative and ones where the original list's values were positive.\n",
    "\n",
    "    original = [-1.5, 0.2, 0.4, 0.0, -1.3, 0.4]\n",
    "    result = ____\n",
    "    for value in original:\n",
    "        if ____:\n",
    "            result.append(0)\n",
    "        else:\n",
    "            ____\n",
    "    print(result)"
   ]
  },
  {
   "cell_type": "code",
   "execution_count": 24,
   "metadata": {},
   "outputs": [
    {
     "name": "stdout",
     "output_type": "stream",
     "text": [
      "[0, 1, 1, 1, 0, 1]\n"
     ]
    }
   ],
   "source": [
    "# Solution\n",
    "\n",
    "original = [-1.5, 0.2, 0.4, 0.0, -1.3, 0.4]\n",
    "result = []\n",
    "for value in original:\n",
    "    if value < 0.0:\n",
    "        result.append(0)\n",
    "    else:\n",
    "        result.append(1)\n",
    "print(result)"
   ]
  },
  {
   "cell_type": "markdown",
   "metadata": {},
   "source": [
    "### Excercise 3: Initializing\n",
    "\n",
    "Modify this program so that it finds the largest and smallest values in the list no matter what the range of values originally is.\n",
    "\n",
    "    values = [...some test data...]\n",
    "    smallest, largest = None, None\n",
    "    for v in values:\n",
    "        if ____:\n",
    "            smallest, largest = v, v\n",
    "        ____:\n",
    "            smallest = min(____, v)\n",
    "            largest = max(____, v)\n",
    "    print(smallest, largest)\n",
    "    \n",
    "What are the advantages and disadvantages of using this method to find the range of the data?"
   ]
  },
  {
   "cell_type": "code",
   "execution_count": 26,
   "metadata": {},
   "outputs": [
    {
     "name": "stdout",
     "output_type": "stream",
     "text": [
      "(-54, 100)\n"
     ]
    }
   ],
   "source": [
    "# Solution: \n",
    "\n",
    "values = [-2, 1, 65, 78, -54, -24, 100]\n",
    "smallest, largest = None, None\n",
    "for v in values:\n",
    "    if smallest is None and largest is None:\n",
    "        smallest, largest = v, v\n",
    "    else:\n",
    "        smallest = min(smallest, v)\n",
    "        largest = max(largest, v)\n",
    "print(smallest, largest)"
   ]
  },
  {
   "cell_type": "markdown",
   "metadata": {},
   "source": [
    "**Note**: If you wrote `== None` instead of `is None`, that works too, but Python programmers always write is None because of the special way None works in the language. \n",
    "\n",
    "**Side note only**:\n",
    "the `is` operator checks if the two items reference the same object.\n",
    "\n",
    "the `== `operator checks if the objects that the two items reference are identical\n",
    "\n",
    "It is better practice to use 'is'"
   ]
  },
  {
   "cell_type": "markdown",
   "metadata": {},
   "source": [
    "**advantage**: It can be argued that an advantage of using this method would be to make the code more readable.\n",
    "\n",
    "**disadvantage**: However, a disadvantage is that this code is not efficient because within each iteration of the for loop statement, there are two more loops that run over two numbers each (the min and max functions).\n",
    "\n",
    "It would be more efficient to iterate over each number just once:"
   ]
  },
  {
   "cell_type": "code",
   "execution_count": 27,
   "metadata": {},
   "outputs": [
    {
     "name": "stdout",
     "output_type": "stream",
     "text": [
      "(-54, 100)\n"
     ]
    }
   ],
   "source": [
    "values = [-2,1,65,78,-54,-24,100]\n",
    "smallest, largest = None, None\n",
    "for v in values:\n",
    "    if smallest is None or v < smallest:\n",
    "        smallest = v\n",
    "    if largest is None or v > largest:\n",
    "        largest = v\n",
    "print(smallest, largest)"
   ]
  }
 ],
 "metadata": {
  "kernelspec": {
   "display_name": "python39",
   "language": "python",
   "name": "python39"
  },
  "language_info": {
   "codemirror_mode": {
    "name": "ipython",
    "version": 2
   },
   "file_extension": ".py",
   "mimetype": "text/x-python",
   "name": "python",
   "nbconvert_exporter": "python",
   "pygments_lexer": "ipython2",
   "version": "2.7.17"
  }
 },
 "nbformat": 4,
 "nbformat_minor": 2
}
