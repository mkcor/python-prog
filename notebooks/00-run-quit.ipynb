{
 "cells": [
  {
   "cell_type": "markdown",
   "id": "2ad7d331-6d5d-4ff4-bd1f-2681ebf0fbba",
   "metadata": {},
   "source": [
    "# Running Python"
   ]
  },
  {
   "cell_type": "markdown",
   "id": "05c905e9-9cad-4150-8908-71aec4e93cd1",
   "metadata": {
    "tags": []
   },
   "source": [
    "### Command vs. Edit\n",
    "\n",
    "* In the Jupyter notebook, are you currently in Command or Edit mode?\n",
    "* Switch between the modes.\n",
    "* Use the shortcuts to generate a new cell.\n",
    "* Use the shortcuts to delete a cell.\n",
    "* Use the shortcuts to undo the last cell operation you performed."
   ]
  },
  {
   "cell_type": "markdown",
   "id": "3b4c2879-ad5c-4ce8-8b92-3e22ceb85d29",
   "metadata": {},
   "source": [
    "### Creating Lists in Markdown\n",
    "\n",
    "Create a nested list in a Markdown cell in a notebook that looks like this:\n",
    "\n",
    "1. Get funding.\n",
    "2. Do work.\n",
    "   * Design experiment.\n",
    "   * Collect data.\n",
    "   * Analyze.\n",
    "3. Write up.\n",
    "4. Publish."
   ]
  },
  {
   "cell_type": "markdown",
   "id": "18f60ead-78ff-4807-b856-872e39258efd",
   "metadata": {},
   "source": [
    "### Math\n",
    "\n",
    "What is displayed when a code cell in a notebook that contains several calculations is executed?\n",
    "\n",
    "For example, what happens when this cell is executed?"
   ]
  },
  {
   "cell_type": "code",
   "execution_count": null,
   "id": "cb7b27a8-43f3-46a4-9e01-56504f0ade19",
   "metadata": {},
   "outputs": [],
   "source": [
    "7 * 3\n",
    "2 + 1"
   ]
  },
  {
   "cell_type": "markdown",
   "id": "4c4203bb-9219-47d0-bae4-8e5ff05ff86e",
   "metadata": {},
   "source": [
    "### Changing an Existing Cell from Code to Markdown\n",
    "\n",
    "What happens if you write some Python in a code cell and then you switch it to a Markdown cell?\n",
    "\n",
    "For example, put the following in a code cell:"
   ]
  },
  {
   "cell_type": "code",
   "execution_count": null,
   "id": "0f9d03ee-ee35-48c9-ba81-03e54e0e8887",
   "metadata": {},
   "outputs": [],
   "source": [
    "x = 6 * 7 + 12\n",
    "print(x)"
   ]
  },
  {
   "cell_type": "markdown",
   "id": "1dd80a89-2956-464f-921b-b54b58e337bb",
   "metadata": {},
   "source": [
    "* And then run it with <kbd>Shift</kbd>+<kbd>Return</kbd> to be sure that it works as a code cell.                                                        \n",
    "\n",
    "* Now go back to the cell and use <kbd>Esc</kbd> then <kbd>m</kbd> to switch the cell to Markdown; \"run\" it with <kbd>Shift</kbd>+<kbd>Return</kbd>.      \n",
    "\n",
    "* What happens and how might this be useful?"
   ]
  },
  {
   "cell_type": "markdown",
   "id": "c779ab76-98d9-4cce-bb47-915e8d696c2f",
   "metadata": {},
   "source": [
    "### Equations\n",
    "\n",
    "Standard Markdown (such as we're using for these notes) does not render equations, but the Jupyter notebook does. Create a new Markdown cell and enter the following:"
   ]
  },
  {
   "cell_type": "code",
   "execution_count": null,
   "id": "25055f9e-02ad-4348-b54f-ded4955a4038",
   "metadata": {},
   "outputs": [],
   "source": [
    "$\\sum_{i=1}^{N} 2^{-i} \\approx 1$"
   ]
  },
  {
   "cell_type": "markdown",
   "id": "c2752dc6-b0c6-46d9-b18a-d54f5215341e",
   "metadata": {},
   "source": [
    "(It's probably easier to copy and paste.)\n",
    "\n",
    "* What does it display?\n",
    "\n",
    "* What do you think the underscore, _, circumflex, ^, and dollar sign, $, do?"
   ]
  }
 ],
 "metadata": {
  "kernelspec": {
   "display_name": "Python 3 (ipykernel)",
   "language": "python",
   "name": "python3"
  },
  "language_info": {
   "codemirror_mode": {
    "name": "ipython",
    "version": 3
   },
   "file_extension": ".py",
   "mimetype": "text/x-python",
   "name": "python",
   "nbconvert_exporter": "python",
   "pygments_lexer": "ipython3",
   "version": "3.10.6"
  }
 },
 "nbformat": 4,
 "nbformat_minor": 5
}
