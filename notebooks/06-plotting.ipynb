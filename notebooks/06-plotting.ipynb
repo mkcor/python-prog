{
 "cells": [
  {
   "cell_type": "markdown",
   "id": "f62963e6-fcdd-447c-9584-219b15c91057",
   "metadata": {},
   "source": [
    "# Visualizing Data by Plotting Them"
   ]
  },
  {
   "cell_type": "markdown",
   "id": "ac003841-6716-4331-85d3-9f2b1dbe033c",
   "metadata": {},
   "source": [
    "Dataset lives at:"
   ]
  },
  {
   "cell_type": "code",
   "execution_count": null,
   "id": "0b5f8505-06f6-40b5-aecd-9a83ce440495",
   "metadata": {},
   "outputs": [],
   "source": [
    "url = \"http://atlas.marine.ie/midata/OceanFeatures/Celtic_Explorer_Underway.csv.zip\""
   ]
  },
  {
   "cell_type": "markdown",
   "id": "da6a688a-0aca-420a-bd3c-645b5b3d104c",
   "metadata": {},
   "source": [
    "### Changing Colours\n",
    "\n",
    "1. Change the histogram above so it is green instead of blue.\n",
    "2. (Re-)add a label for the x-axis (`xlabel`).\n",
    "3. Add a title for the overall plot (`title`)."
   ]
  },
  {
   "cell_type": "markdown",
   "id": "b76ed47e-59b7-42a0-8268-92832eaed79c",
   "metadata": {},
   "source": [
    "### Choosing Data Structure and Plot Type\n",
    "\n",
    "1. We can create a dataframe by specifying the content of its columns: `table = pd.DataFrame({'Time': time, 'Position': position})`. What does `table.plot();` produce?\n",
    "2. Plot Position against Time. One way of achieving it is `table.plot(x='Time', y='Position');`. Another way is `table.set_index('Time').plot();`: Note that this turns the `table['Position']` series into a *timeseries*, i.e., a series indexed in time order. In which cases would you favour one or the other?\n",
    "3. What about `table.plot(kind='scatter', x='Time', y='Position');`?"
   ]
  }
 ],
 "metadata": {
  "kernelspec": {
   "display_name": "Python 3 (ipykernel)",
   "language": "python",
   "name": "python3"
  },
  "language_info": {
   "codemirror_mode": {
    "name": "ipython",
    "version": 3
   },
   "file_extension": ".py",
   "mimetype": "text/x-python",
   "name": "python",
   "nbconvert_exporter": "python",
   "pygments_lexer": "ipython3",
   "version": "3.11.0"
  }
 },
 "nbformat": 4,
 "nbformat_minor": 5
}
